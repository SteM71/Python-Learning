{
 "cells": [
  {
   "cell_type": "code",
   "execution_count": null,
   "metadata": {},
   "outputs": [],
   "source": [
    "r=2\n",
    "pi=3.14\n",
    "area=pi*(r**2)\n",
    "print(area)"
   ]
  },
  {
   "cell_type": "code",
   "execution_count": null,
   "metadata": {},
   "outputs": [],
   "source": []
  },
  {
   "cell_type": "code",
   "execution_count": null,
   "metadata": {},
   "outputs": [],
   "source": []
  },
  {
   "cell_type": "code",
   "execution_count": null,
   "metadata": {},
   "outputs": [],
   "source": []
  },
  {
   "cell_type": "code",
   "execution_count": 9,
   "metadata": {},
   "outputs": [
    {
     "name": "stdout",
     "output_type": "stream",
     "text": [
      "['tea', 'coffee', 'juice']\n",
      "['tea', 'coffee', 'juice', 'beer', 'lager']\n",
      "['lager']\n",
      "['tea', 'coffee', 'juice', 'beer', 'lager']\n",
      "['tea', 'lager', 'juice', 'coffee', 'beer']\n"
     ]
    }
   ],
   "source": [
    "Food_1=[\"tea\",\"coffee\",\"juice\"]\n",
    "print(Food_1)\n",
    "\n",
    "Food_extra=[\"beer\",\"lager\"]\n",
    "Food_1.extend(Food_extra)\n",
    "\n",
    "print(Food_1)\n",
    "Food_1\n",
    "\n",
    "Food_extra.remove(\"beer\")\n",
    "print(Food_extra)\n",
    "\n",
    "\n",
    "print(Food_1)\n",
    "Food_1.sort(reverse=True)\n",
    "sorted_foods=sorted(Food_1)\n",
    "print(Food_1)"
   ]
  },
  {
   "cell_type": "code",
   "execution_count": 40,
   "metadata": {},
   "outputs": [
    {
     "name": "stdout",
     "output_type": "stream",
     "text": [
      "dict_items([('steve', 'blue'), ('vicky', ['pink', 'sparkly']), ('tom', {'monday': 'red', 'other day': 'green'})])\n",
      "dict_keys(['steve', 'vicky', 'tom'])\n",
      "dict_values(['blue', ['pink', 'sparkly'], {'monday': 'red', 'other day': 'green'}])\n",
      "{'steve': 'blue', 'vicky': ['pink', 'sparkly'], 'tom': {'monday': 'red', 'other day': 'green'}, 'katie': 'purple'}\n",
      "False\n",
      "blue\n"
     ]
    }
   ],
   "source": [
    "fav_colours={\"steve\":\"blue\",\n",
    "             \"vicky\":[\"pink\",\"sparkly\"],\n",
    "             \"tom\":{\"monday\":\"red\",\"other day\":\"green\"}}\n",
    "print(fav_colours.items())\n",
    "print(fav_colours.keys())\n",
    "print(fav_colours.values())\n",
    "fav_colours[\"katie\"]=\"purple\"\n",
    "print(fav_colours)\n",
    "print(\"woody\" in fav_colours)\n",
    "print(fav_colours[(\"steve\")])\n"
   ]
  },
  {
   "cell_type": "code",
   "execution_count": null,
   "metadata": {},
   "outputs": [],
   "source": []
  },
  {
   "cell_type": "code",
   "execution_count": 25,
   "metadata": {},
   "outputs": [
    {
     "name": "stdout",
     "output_type": "stream",
     "text": [
      "dict_items([('kfc', ('chicken', 'burgers')), ('Wetherspoons', {'monday': 'steak', 'tuesday': 'curry club', 'other days': 'pub grub'}), ('MacD', 'burgers')])\n"
     ]
    }
   ],
   "source": [
    "restaurants={\"kfc\":(\"chicken\",\"burgers\"),\n",
    "             \"Wetherspoons\":{\"monday\":\"steak\",\"tuesday\":\"curry club\",\"other days\":\"pub grub\"},\n",
    "             \"MacD\":\"burgers\"}\n",
    "\n",
    "print(restaurants.items())"
   ]
  },
  {
   "cell_type": "code",
   "execution_count": 6,
   "metadata": {},
   "outputs": [
    {
     "ename": "AttributeError",
     "evalue": "'builtin_function_or_method' object has no attribute 'type'",
     "output_type": "error",
     "traceback": [
      "\u001b[0;31m---------------------------------------------------------------------------\u001b[0m",
      "\u001b[0;31mAttributeError\u001b[0m                            Traceback (most recent call last)",
      "Cell \u001b[0;32mIn[6], line 3\u001b[0m\n\u001b[1;32m      1\u001b[0m num_list\u001b[38;5;241m=\u001b[39m[\u001b[38;5;241m3\u001b[39m,\u001b[38;5;241m4\u001b[39m,\u001b[38;5;241m5\u001b[39m,\u001b[38;5;241m2\u001b[39m,\u001b[38;5;241m7\u001b[39m,\u001b[38;5;241m9\u001b[39m,\u001b[38;5;241m8\u001b[39m,\u001b[38;5;241m7\u001b[39m]\n\u001b[1;32m      2\u001b[0m num_list\u001b[38;5;241m.\u001b[39msort(reverse\u001b[38;5;241m=\u001b[39m\u001b[38;5;28;01mTrue\u001b[39;00m)\n\u001b[0;32m----> 3\u001b[0m \u001b[38;5;28;43mprint\u001b[39;49m\u001b[38;5;241;43m.\u001b[39;49m\u001b[43mtype\u001b[49m(num_list)\n",
      "\u001b[0;31mAttributeError\u001b[0m: 'builtin_function_or_method' object has no attribute 'type'"
     ]
    }
   ],
   "source": [
    "num_list=[3,4,5,2,7,9,8,7]\n",
    "num_list.sort(reverse=True)\n",
    "print.type(num_list)"
   ]
  },
  {
   "cell_type": "code",
   "execution_count": null,
   "metadata": {},
   "outputs": [],
   "source": [
    "name=\"Steve\"\n",
    "job=\"Strategy & Performance\"\n",
    "nametitle=f\"My name is {name} and I work in {job}\"\n",
    "print(nametitle)"
   ]
  },
  {
   "cell_type": "code",
   "execution_count": null,
   "metadata": {},
   "outputs": [],
   "source": [
    "numstring=\"12345678910\"\n",
    "substring_rhs=numstring[-4]\n",
    "print(substring_rhs)\n"
   ]
  },
  {
   "cell_type": "code",
   "execution_count": null,
   "metadata": {},
   "outputs": [],
   "source": [
    "r=2\n",
    "pi=3.14\n",
    "square=r**2\n",
    "print(pi*square)"
   ]
  }
 ],
 "metadata": {
  "kernelspec": {
   "display_name": "Python 3",
   "language": "python",
   "name": "python3"
  },
  "language_info": {
   "codemirror_mode": {
    "name": "ipython",
    "version": 3
   },
   "file_extension": ".py",
   "mimetype": "text/x-python",
   "name": "python",
   "nbconvert_exporter": "python",
   "pygments_lexer": "ipython3",
   "version": "3.10.13"
  }
 },
 "nbformat": 4,
 "nbformat_minor": 2
}
